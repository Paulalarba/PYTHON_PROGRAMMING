{
 "cells": [
  {
   "cell_type": "markdown",
   "id": "c7332587-a949-426b-befd-5612c9acb771",
   "metadata": {},
   "source": [
    "# LESSON 5 TUPLES, LISTS, AND DICTIONARIES"
   ]
  },
  {
   "cell_type": "markdown",
   "id": "5fcd468a-6eba-4bfb-a4a7-dc74dbdc971c",
   "metadata": {},
   "source": [
    "# REVIEW EXERCISES 1"
   ]
  },
  {
   "cell_type": "code",
   "execution_count": 13,
   "id": "e52bdade-a282-456b-9448-3e70576066bc",
   "metadata": {},
   "outputs": [
    {
     "name": "stdout",
     "output_type": "stream",
     "text": [
      "Second\n",
      "First\n",
      "Second\n",
      "Third\n",
      "False\n",
      "aul\n"
     ]
    }
   ],
   "source": [
    "# number 1\n",
    "cardinal_numbers = (\"First\", \"Second\", \"Third\")\n",
    "print(cardinal_numbers[1])\n",
    "position1, position2, position3 = cardinal_numbers\n",
    "print(position1)\n",
    "print(position2)\n",
    "print(position3)\n",
    "my_name = (\"paul\")\n",
    "print(\"x\" in my_name)\n",
    "new_tuple =my_name[1:]\n",
    "print(new_tuple)"
   ]
  },
  {
   "cell_type": "code",
   "execution_count": 10,
   "id": "9c8666c0-2d54-4fff-96ef-8ea99dfd6d3c",
   "metadata": {},
   "outputs": [
    {
     "name": "stdout",
     "output_type": "stream",
     "text": [
      "('First', 'Second', 'Third')\n"
     ]
    }
   ],
   "source": [
    "cardinal_numbers = (\"First\", \"Second\", \"Third\")\n",
    "print(cardinal_numbers)"
   ]
  },
  {
   "cell_type": "code",
   "execution_count": 11,
   "id": "1b308d63-6611-4c8f-8cbc-6d06bae4467d",
   "metadata": {},
   "outputs": [
    {
     "name": "stdout",
     "output_type": "stream",
     "text": [
      "Second\n"
     ]
    }
   ],
   "source": [
    "cardinal_numbers = (\"First\", \"Second\", \"Third\")\n",
    "print(cardinal_numbers[1])"
   ]
  },
  {
   "cell_type": "code",
   "execution_count": 12,
   "id": "a85e9784-e190-4407-b229-462269e09ee2",
   "metadata": {},
   "outputs": [
    {
     "name": "stdout",
     "output_type": "stream",
     "text": [
      "First\n",
      "Second\n",
      "Third\n"
     ]
    }
   ],
   "source": [
    "position1, position2, position3 = cardinal_numbers\n",
    "print(position1)\n",
    "print(position2)\n",
    "print(position3)"
   ]
  },
  {
   "cell_type": "code",
   "execution_count": 14,
   "id": "669caba6-4e43-4ba7-a40a-1b209971e297",
   "metadata": {},
   "outputs": [],
   "source": [
    "my_name = (\"paul\")"
   ]
  },
  {
   "cell_type": "code",
   "execution_count": 15,
   "id": "015cf3f4-7e72-4e88-b4c0-460c715177ec",
   "metadata": {},
   "outputs": [
    {
     "name": "stdout",
     "output_type": "stream",
     "text": [
      "False\n"
     ]
    }
   ],
   "source": [
    "my_name = (\"paul\")\n",
    "print(\"x\" in my_name)"
   ]
  },
  {
   "cell_type": "code",
   "execution_count": 16,
   "id": "0f939867-69d9-46a5-8e2c-2843e4529830",
   "metadata": {},
   "outputs": [
    {
     "name": "stdout",
     "output_type": "stream",
     "text": [
      "aul\n"
     ]
    }
   ],
   "source": [
    "new_tuple =my_name[1:]\n",
    "print(new_tuple)"
   ]
  },
  {
   "cell_type": "markdown",
   "id": "a16c0e2f-0f97-4bca-ae49-79fb719bfc5b",
   "metadata": {},
   "source": [
    "# REVIEW EXERCISE 2"
   ]
  },
  {
   "cell_type": "code",
   "execution_count": 1,
   "id": "7b027314-8d10-4459-855c-5e4eaffadde9",
   "metadata": {},
   "outputs": [
    {
     "name": "stdout",
     "output_type": "stream",
     "text": [
      "['Rice', 'Beans', 'Broccoli', 'Bread', 'Pizza']\n",
      "['Rice', 'Beans']\n",
      "Pizza\n",
      "['Eggs', 'fruet', 'orange juice']\n",
      "3\n",
      "[4, 5, 12]\n"
     ]
    }
   ],
   "source": [
    "food = [\"Rice\", \"Beans\"]\n",
    "food.append(\"Broccoli\")\n",
    "food.extend([\"Bread\", \"Pizza\"])\n",
    "print(food)\n",
    "print(food[:2])\n",
    "print(food[-1])\n",
    "\n",
    "breakfast = \"Eggs, fruet, orange juice\".split(\", \")\n",
    "print(breakfast)\n",
    "print(len(breakfast))\n",
    "\n",
    "lenghts = [len(item) for item in breakfast]\n",
    "print(lenghts)"
   ]
  },
  {
   "cell_type": "code",
   "execution_count": 21,
   "id": "df8d23b6-9d7a-4907-bcc1-2c452487e01a",
   "metadata": {},
   "outputs": [
    {
     "name": "stdout",
     "output_type": "stream",
     "text": [
      "['Rice', 'Beans']\n"
     ]
    }
   ],
   "source": [
    "food = [\"Rice\", \"Beans\"]\n",
    "print(food)"
   ]
  },
  {
   "cell_type": "code",
   "execution_count": 20,
   "id": "8b3e4372-4031-4bf0-be8c-ee2e0762d91f",
   "metadata": {},
   "outputs": [
    {
     "name": "stdout",
     "output_type": "stream",
     "text": [
      "['Rice', 'Beans', 'Broccoli']\n"
     ]
    }
   ],
   "source": [
    "food = [\"Rice\", \"Beans\"]\n",
    "food.append(\"Broccoli\")\n",
    "print(food)"
   ]
  },
  {
   "cell_type": "code",
   "execution_count": 22,
   "id": "8cdddd1b-d6d6-48cc-8504-55b226a1fd1f",
   "metadata": {},
   "outputs": [
    {
     "name": "stdout",
     "output_type": "stream",
     "text": [
      "['Rice', 'Beans', 'Broccoli', 'Bread', 'Pizza']\n"
     ]
    }
   ],
   "source": [
    "food = [\"Rice\", \"Beans\"]\n",
    "food.append(\"Broccoli\")\n",
    "food.extend([\"Bread\", \"Pizza\"])\n",
    "print(food)"
   ]
  },
  {
   "cell_type": "code",
   "execution_count": 23,
   "id": "5c2ac61b-f779-44d2-9d6a-de00327a01fe",
   "metadata": {},
   "outputs": [
    {
     "name": "stdout",
     "output_type": "stream",
     "text": [
      "['Rice', 'Beans', 'Broccoli', 'Bread', 'Pizza']\n",
      "['Rice', 'Beans']\n"
     ]
    }
   ],
   "source": [
    "food = [\"Rice\", \"Beans\"]\n",
    "food.append(\"Broccoli\")\n",
    "food.extend([\"Bread\", \"Pizza\"])\n",
    "print(food)\n",
    "print(food[:2])"
   ]
  },
  {
   "cell_type": "code",
   "execution_count": 25,
   "id": "36a3a357-19e4-4f66-ab0d-40f6e680a157",
   "metadata": {},
   "outputs": [
    {
     "name": "stdout",
     "output_type": "stream",
     "text": [
      "['Eggs', 'fruet', 'orange juice']\n",
      "3\n"
     ]
    }
   ],
   "source": [
    "breakfast = \"Eggs, fruet, orange juice\".split(\", \")\n",
    "print(breakfast)\n",
    "print(len(breakfast))"
   ]
  },
  {
   "cell_type": "code",
   "execution_count": 27,
   "id": "a24f1b55-7589-480e-9ecb-448e51f97d4b",
   "metadata": {},
   "outputs": [
    {
     "name": "stdout",
     "output_type": "stream",
     "text": [
      "['Rice', 'Beans', 'Broccoli', 'Bread', 'Pizza']\n",
      "Pizza\n"
     ]
    }
   ],
   "source": [
    "food = [\"Rice\", \"Beans\"]\n",
    "food.append(\"Broccoli\")\n",
    "food.extend([\"Bread\", \"Pizza\"])\n",
    "print(food)\n",
    "print(food[-1])"
   ]
  },
  {
   "cell_type": "code",
   "execution_count": 28,
   "id": "836f34dc-ca09-42ef-baf6-c9d0d0acc7aa",
   "metadata": {},
   "outputs": [
    {
     "name": "stdout",
     "output_type": "stream",
     "text": [
      "[4, 5, 12]\n"
     ]
    }
   ],
   "source": [
    "lenghts = [len(item) for item in breakfast]\n",
    "print(lenghts)"
   ]
  },
  {
   "cell_type": "markdown",
   "id": "d5120875-9e48-4311-8cb5-8b1db260ea00",
   "metadata": {},
   "source": [
    "# REVIEW EXERCISE 3"
   ]
  },
  {
   "cell_type": "code",
   "execution_count": 29,
   "id": "6651cc14-d51c-4e7f-b143-8f1b2327ad44",
   "metadata": {},
   "outputs": [
    {
     "name": "stdout",
     "output_type": "stream",
     "text": [
      "((1, 2), (3, 4))\n"
     ]
    }
   ],
   "source": [
    "nested = ((1,2), (3,4))\n",
    "print(nested)"
   ]
  },
  {
   "cell_type": "code",
   "execution_count": 30,
   "id": "598abda7-16c5-4b1f-b919-ac8ce876ba5c",
   "metadata": {},
   "outputs": [
    {
     "name": "stdout",
     "output_type": "stream",
     "text": [
      "row 1 sum: 3\n",
      "row 2 sum: 7\n"
     ]
    }
   ],
   "source": [
    "for i in range(len(nested)):\n",
    "    print(f\"row {i + 1} sum: {sum(nested[i])}\") "
   ]
  },
  {
   "cell_type": "code",
   "execution_count": 35,
   "id": "dee65997-d838-446f-8226-24f262d96116",
   "metadata": {},
   "outputs": [
    {
     "name": "stdout",
     "output_type": "stream",
     "text": [
      "[1, 4, 5, 6, 3, 2]\n",
      "copy: [1, 4, 5, 6, 3, 2]\n",
      "Sorted numbers: [1, 2, 3, 4, 5, 6]\n"
     ]
    }
   ],
   "source": [
    "num = [1, 4, 5, 6, 3, 2]\n",
    "print(num)\n",
    "\n",
    "num_copy = num[:]\n",
    "print(f\"copy: {num_copy}\")\n",
    "\n",
    "num.sort()\n",
    "print(f\"Sorted numbers: {num}\")"
   ]
  },
  {
   "cell_type": "markdown",
   "id": "f4990022-9b5e-4ddd-b2e3-6b74d4e9aedb",
   "metadata": {},
   "source": [
    "# Challenge list of list"
   ]
  },
  {
   "cell_type": "code",
   "execution_count": 37,
   "id": "f823476d-5ffe-494b-aa23-ffa2cf344c11",
   "metadata": {},
   "outputs": [
    {
     "name": "stdout",
     "output_type": "stream",
     "text": [
      "['California Institute of Technology', 2175, 37704]\n",
      "['Harvard', 19627, 39849]\n",
      "['Massachusetts Institute of Technology', 10566, 40732]\n",
      "['Princeton', 7802, 37000]\n",
      "['Rice', 5879, 35551]\n",
      "['Stanford', 19535, 40569]\n",
      "['Yale', 11701, 40500]\n"
     ]
    }
   ],
   "source": [
    "universities = [\n",
    "    ['California Institute of Technology', 2175, 37704],\n",
    "    ['Harvard', 19627, 39849],\n",
    "    ['Massachusetts Institute of Technology', 10566, 40732],\n",
    "    ['Princeton', 7802, 37000],\n",
    "    ['Rice', 5879, 35551],\n",
    "    ['Stanford', 19535, 40569],\n",
    "    ['Yale', 11701, 40500]\n",
    "]\n",
    "for school in universities:\n",
    "    print(school)"
   ]
  },
  {
   "cell_type": "markdown",
   "id": "06efed7d-5ba6-4186-97e6-87737b5dc145",
   "metadata": {},
   "source": [
    "# challenge: wax poetic"
   ]
  },
  {
   "cell_type": "code",
   "execution_count": 16,
   "id": "9b8915ce-b7df-49a0-9080-093045de13bd",
   "metadata": {},
   "outputs": [
    {
     "name": "stdout",
     "output_type": "stream",
     "text": [
      "\n",
      "Nouns: ['FOSSIL', 'HORSE', 'AARDVARK', 'JUDGE', 'CHEF', 'MANGO', 'EXTROVERT', 'GORILLA']\n",
      "Verbs: ['KICKS', 'JINGLES', 'BOUNCES', 'SLURPS', 'MEOWS', 'EXPLODES', 'CURDLES']\n",
      "Adjectives: ['FURRY', 'BALDING', 'INCREDULOUS', 'FRAGRANT', 'EXUBERANT', 'GLISTENING']\n",
      "Prepositions: ['AGAINST', 'AFTER', 'INTO', 'BENEATH', 'UPON', 'FOR', 'IN', 'LIKE', 'OVER', 'WITHIN']\n",
      "Adverbs: ['CURIOUSLY', 'FURIOUSLY', 'SENSUOUSLY', 'EXTRAVAGANTLY', 'TANTALIZINGLY']\n",
      "\n"
     ]
    }
   ],
   "source": [
    "nouns = [\"FOSSIL\", \"HORSE\", \"AARDVARK\", \"JUDGE\", \"CHEF\", \n",
    "         \"MANGO\", \"EXTROVERT\", \"GORILLA\"]\n",
    "\n",
    "verbs = [\"KICKS\", \"JINGLES\", \"BOUNCES\", \"SLURPS\", \"MEOWS\", \n",
    "         \"EXPLODES\", \"CURDLES\"]\n",
    "\n",
    "adjectives = [\"FURRY\", \"BALDING\", \"INCREDULOUS\", \"FRAGRANT\", \n",
    "              \"EXUBERANT\", \"GLISTENING\"]\n",
    "\n",
    "prepositions = [\"AGAINST\", \"AFTER\", \"INTO\", \"BENEATH\", \"UPON\", \n",
    "                \"FOR\", \"IN\", \"LIKE\", \"OVER\", \"WITHIN\"]\n",
    "\n",
    "adverbs = [\"CURIOUSLY\", \"FURIOUSLY\", \"SENSUOUSLY\", \n",
    "           \"EXTRAVAGANTLY\", \"TANTALIZINGLY\"]\n",
    "\n",
    "print(f\"\"\"\n",
    "Nouns: {nouns}\n",
    "Verbs: {verbs}\n",
    "Adjectives: {adjectives}\n",
    "Prepositions: {prepositions}\n",
    "Adverbs: {adverbs}\n",
    "\"\"\")"
   ]
  },
  {
   "cell_type": "markdown",
   "id": "de2f867b-f614-406f-a66c-06d18a7cf98c",
   "metadata": {},
   "source": [
    "# REVIEW EXERCISE 4"
   ]
  },
  {
   "cell_type": "code",
   "execution_count": 16,
   "id": "f02a6cdd-3571-435e-af1f-9414c7647738",
   "metadata": {},
   "outputs": [],
   "source": [
    "captains = {}"
   ]
  },
  {
   "cell_type": "code",
   "execution_count": 17,
   "id": "09705c80-2692-46bc-b921-eef3cd0cc68b",
   "metadata": {},
   "outputs": [],
   "source": [
    "captains[\"Enterprise\"] = \"Picard\"\n",
    "captains[\"Voyager\"] = \"Janeway\"\n",
    "captains[\"Defiant\"] = \"Sisko\""
   ]
  },
  {
   "cell_type": "code",
   "execution_count": 21,
   "id": "cb246d69-ab1b-4c68-877d-a38512afe7d7",
   "metadata": {},
   "outputs": [],
   "source": [
    "if \"Enterprise\" not in captains:\n",
    "    captains[\"Enterprise\"] = \"Unknown\"\n",
    "if \"Discovery\" not in captains:\n",
    "    captains[\"Discovery\"] = \"Unknown\""
   ]
  },
  {
   "cell_type": "code",
   "execution_count": 24,
   "id": "5ce3722a-807a-49c7-aabf-a46b5ad0dceb",
   "metadata": {},
   "outputs": [
    {
     "name": "stdout",
     "output_type": "stream",
     "text": [
      "The Enterprise is captained by Picard\n",
      "The Voyager is captained by Janeway\n",
      "The Defiant is captained by Sisko\n"
     ]
    }
   ],
   "source": [
    "for item in captains:\n",
    "    print(f\"The {item} is captained by {captains[item]}\")"
   ]
  },
  {
   "cell_type": "code",
   "execution_count": null,
   "id": "ea151d7c-c3e6-43bf-b8db-fadf6308d423",
   "metadata": {},
   "outputs": [],
   "source": [
    "del captains[\"Discovery\"]"
   ]
  },
  {
   "cell_type": "code",
   "execution_count": 27,
   "id": "be7cff9c-3720-4a93-9c5e-35c0342fc558",
   "metadata": {},
   "outputs": [
    {
     "name": "stdout",
     "output_type": "stream",
     "text": [
      "The capital of Alabama is Montgomery.\n",
      "The capital of Alaska is Juneau.\n",
      "The capital of Arizona is Phoenix.\n",
      "The capital of Arkansas is Little Rock.\n",
      "The capital of California is Sacramento.\n",
      "The capital of Colorado is Denver.\n",
      "The capital of Connecticut is Hartford.\n",
      "The capital of Delaware is Dover.\n",
      "The capital of Florida is Tallahassee.\n",
      "The capital of Georgia is Atlanta.\n"
     ]
    }
   ],
   "source": [
    "capitals_dict = {\n",
    "    'Alabama': 'Montgomery',\n",
    "    'Alaska': 'Juneau',\n",
    "    'Arizona': 'Phoenix',\n",
    "    'Arkansas': 'Little Rock',\n",
    "    'California': 'Sacramento',\n",
    "    'Colorado': 'Denver',\n",
    "    'Connecticut': 'Hartford',\n",
    "    'Delaware': 'Dover',\n",
    "    'Florida': 'Tallahassee',\n",
    "    'Georgia': 'Atlanta',\n",
    "}\n",
    "\n",
    "for state, capital in capitals_dict.items():\n",
    "    print(f\"The capital of {state} is {capital}.\")"
   ]
  },
  {
   "cell_type": "code",
   "execution_count": null,
   "id": "19fc6e49-a7db-4c14-adb3-cc528bf14290",
   "metadata": {},
   "outputs": [],
   "source": []
  }
 ],
 "metadata": {
  "kernelspec": {
   "display_name": "Python 3 (ipykernel)",
   "language": "python",
   "name": "python3"
  },
  "language_info": {
   "codemirror_mode": {
    "name": "ipython",
    "version": 3
   },
   "file_extension": ".py",
   "mimetype": "text/x-python",
   "name": "python",
   "nbconvert_exporter": "python",
   "pygments_lexer": "ipython3",
   "version": "3.10.18"
  }
 },
 "nbformat": 4,
 "nbformat_minor": 5
}
