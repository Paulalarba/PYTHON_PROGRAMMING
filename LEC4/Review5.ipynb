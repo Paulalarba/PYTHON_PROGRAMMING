{
 "cells": [
  {
   "cell_type": "markdown",
   "id": "a2cd3c7f-619d-4bcc-9ba7-0f277f4a7dba",
   "metadata": {},
   "source": [
    "# Review Q 5 try and except"
   ]
  },
  {
   "cell_type": "code",
   "execution_count": 1,
   "id": "e8d276d9-d37c-436c-ad98-3c32415254a6",
   "metadata": {},
   "outputs": [
    {
     "name": "stdin",
     "output_type": "stream",
     "text": [
      "ENTER A NUMBER:  s\n"
     ]
    },
    {
     "name": "stdout",
     "output_type": "stream",
     "text": [
      "TRY AGAIN: \n"
     ]
    },
    {
     "name": "stdin",
     "output_type": "stream",
     "text": [
      "ENTER A NUMBER:  A\n"
     ]
    },
    {
     "name": "stdout",
     "output_type": "stream",
     "text": [
      "TRY AGAIN: \n"
     ]
    },
    {
     "name": "stdin",
     "output_type": "stream",
     "text": [
      "ENTER A NUMBER:  1\n"
     ]
    },
    {
     "name": "stdout",
     "output_type": "stream",
     "text": [
      "YOU INPUT: 1\n"
     ]
    }
   ],
   "source": [
    "while True:\n",
    "    try:\n",
    "        number = int(input(\"ENTER A NUMBER: \"))\n",
    "        print(f\"YOU INPUT: {number}\")\n",
    "        break\n",
    "    except:\n",
    "        print(\"TRY AGAIN: \")"
   ]
  },
  {
   "cell_type": "code",
   "execution_count": 10,
   "id": "3d273aab-f277-452a-b34f-72dbbfd7f6b6",
   "metadata": {},
   "outputs": [
    {
     "name": "stdin",
     "output_type": "stream",
     "text": [
      "Enter a string:  paulalarba\n",
      "Enter an integer (index):  5\n"
     ]
    },
    {
     "name": "stdout",
     "output_type": "stream",
     "text": [
      "The character at index 5 is: l\n"
     ]
    }
   ],
   "source": [
    "try:\n",
    "    user_string = input(\"Enter a string: \")\n",
    "    n = int(input(\"Enter an integer (index): \"))\n",
    "    print(f\"The character at index {n} is: {user_string[n]}\")\n",
    "except ValueError:\n",
    "    print(\"Invalid input.\")\n",
    "except IndexError:\n",
    "    print(\"Index out of range.\")\n"
   ]
  },
  {
   "cell_type": "code",
   "execution_count": null,
   "id": "69323f30-8b68-4109-9bfd-d6e047115a7b",
   "metadata": {},
   "outputs": [],
   "source": []
  }
 ],
 "metadata": {
  "kernelspec": {
   "display_name": "Python (myenv)",
   "language": "python",
   "name": "myenv"
  },
  "language_info": {
   "codemirror_mode": {
    "name": "ipython",
    "version": 3
   },
   "file_extension": ".py",
   "mimetype": "text/x-python",
   "name": "python",
   "nbconvert_exporter": "python",
   "pygments_lexer": "ipython3",
   "version": "3.10.18"
  }
 },
 "nbformat": 4,
 "nbformat_minor": 5
}
