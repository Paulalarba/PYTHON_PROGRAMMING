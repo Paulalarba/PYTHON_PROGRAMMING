{
 "cells": [
  {
   "cell_type": "markdown",
   "id": "e77a78fe-8257-4fbf-b377-ba82bbdc573e",
   "metadata": {},
   "source": [
    "# Review "
   ]
  },
  {
   "cell_type": "code",
   "execution_count": 2,
   "id": "8696ad3a-c092-4a8f-ba5f-fa212f8619c6",
   "metadata": {},
   "outputs": [
    {
     "data": {
      "text/plain": [
       "True"
      ]
     },
     "execution_count": 2,
     "metadata": {},
     "output_type": "execute_result"
    }
   ],
   "source": [
    "not True == False"
   ]
  },
  {
   "cell_type": "code",
   "execution_count": 5,
   "id": "ea520074-3dbe-44b1-af69-c53a69abb25e",
   "metadata": {},
   "outputs": [
    {
     "ename": "SyntaxError",
     "evalue": "invalid syntax (1386348353.py, line 1)",
     "output_type": "error",
     "traceback": [
      "\u001b[1;36m  Cell \u001b[1;32mIn[5], line 1\u001b[1;36m\u001b[0m\n\u001b[1;33m    False == not True\u001b[0m\n\u001b[1;37m             ^\u001b[0m\n\u001b[1;31mSyntaxError\u001b[0m\u001b[1;31m:\u001b[0m invalid syntax\n"
     ]
    }
   ],
   "source": [
    "False == not True"
   ]
  },
  {
   "cell_type": "code",
   "execution_count": 6,
   "id": "855769e4-b297-47fc-a93e-6a9799c1b3c5",
   "metadata": {},
   "outputs": [
    {
     "data": {
      "text/plain": [
       "False"
      ]
     },
     "execution_count": 6,
     "metadata": {},
     "output_type": "execute_result"
    }
   ],
   "source": [
    "#false\n",
    "(1 <= 1) and (1 != 1)"
   ]
  },
  {
   "cell_type": "code",
   "execution_count": 7,
   "id": "80f44053-16aa-4efc-82b3-bc0e7f10e649",
   "metadata": {},
   "outputs": [
    {
     "data": {
      "text/plain": [
       "False"
      ]
     },
     "execution_count": 7,
     "metadata": {},
     "output_type": "execute_result"
    }
   ],
   "source": [
    "# false\n",
    "not (1 != 2)"
   ]
  },
  {
   "cell_type": "code",
   "execution_count": 8,
   "id": "acc938ae-0d6a-4b63-8524-658172e7f919",
   "metadata": {},
   "outputs": [
    {
     "data": {
      "text/plain": [
       "True"
      ]
     },
     "execution_count": 8,
     "metadata": {},
     "output_type": "execute_result"
    }
   ],
   "source": [
    "#true\n",
    "(\"good\" != \"bad\") or False"
   ]
  },
  {
   "cell_type": "code",
   "execution_count": 9,
   "id": "228122ed-0ee0-4a6b-aa0a-3c450e5de1e3",
   "metadata": {},
   "outputs": [
    {
     "data": {
      "text/plain": [
       "False"
      ]
     },
     "execution_count": 9,
     "metadata": {},
     "output_type": "execute_result"
    }
   ],
   "source": [
    "#false\n",
    "(\"good\" != \"Good\") and not (1 == 1)"
   ]
  },
  {
   "cell_type": "markdown",
   "id": "a6739e87-3daf-4d56-8120-26acb22a1219",
   "metadata": {},
   "source": [
    "# number 2"
   ]
  },
  {
   "cell_type": "code",
   "execution_count": 13,
   "id": "157c7830-42d2-4eb7-b9f7-418d9e686865",
   "metadata": {},
   "outputs": [
    {
     "data": {
      "text/plain": [
       "True"
      ]
     },
     "execution_count": 13,
     "metadata": {},
     "output_type": "execute_result"
    }
   ],
   "source": [
    "False == (not True)"
   ]
  },
  {
   "cell_type": "code",
   "execution_count": 14,
   "id": "b6c1eeb2-d879-4640-883e-8712d3d60439",
   "metadata": {},
   "outputs": [
    {
     "data": {
      "text/plain": [
       "True"
      ]
     },
     "execution_count": 14,
     "metadata": {},
     "output_type": "execute_result"
    }
   ],
   "source": [
    "(True and False) == (True and False)"
   ]
  },
  {
   "cell_type": "code",
   "execution_count": 16,
   "id": "0ed6591a-261f-460a-9caa-0936c959501c",
   "metadata": {},
   "outputs": [
    {
     "data": {
      "text/plain": [
       "True"
      ]
     },
     "execution_count": 16,
     "metadata": {},
     "output_type": "execute_result"
    }
   ],
   "source": [
    "not (True and \"A\" == \"B\")"
   ]
  },
  {
   "cell_type": "code",
   "execution_count": null,
   "id": "84f488ec-4822-48bb-b26e-4b7f7001eee8",
   "metadata": {},
   "outputs": [],
   "source": []
  }
 ],
 "metadata": {
  "kernelspec": {
   "display_name": "Python (myenv)",
   "language": "python",
   "name": "myenv"
  },
  "language_info": {
   "codemirror_mode": {
    "name": "ipython",
    "version": 3
   },
   "file_extension": ".py",
   "mimetype": "text/x-python",
   "name": "python",
   "nbconvert_exporter": "python",
   "pygments_lexer": "ipython3",
   "version": "3.10.18"
  }
 },
 "nbformat": 4,
 "nbformat_minor": 5
}
