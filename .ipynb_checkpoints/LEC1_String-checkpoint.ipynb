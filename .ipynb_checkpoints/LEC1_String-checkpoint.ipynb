{
 "cells": [
  {
   "cell_type": "markdown",
   "id": "7dd26315-4c5f-465f-a0f3-e25edb4c68a9",
   "metadata": {},
   "source": [
    "# REVIEW QUESTION 1"
   ]
  },
  {
   "cell_type": "code",
   "execution_count": null,
   "id": "a28b51df-7818-4c52-9006-b6cbd59396cc",
   "metadata": {},
   "outputs": [],
   "source": []
  }
 ],
 "metadata": {
  "kernelspec": {
   "display_name": "Python (myenv)",
   "language": "python",
   "name": "myenv"
  },
  "language_info": {
   "codemirror_mode": {
    "name": "ipython",
    "version": 3
   },
   "file_extension": ".py",
   "mimetype": "text/x-python",
   "name": "python",
   "nbconvert_exporter": "python",
   "pygments_lexer": "ipython3",
   "version": "3.10.18"
  }
 },
 "nbformat": 4,
 "nbformat_minor": 5
}
