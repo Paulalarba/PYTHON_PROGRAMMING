{
 "cells": [
  {
   "cell_type": "markdown",
   "id": "7dd26315-4c5f-465f-a0f3-e25edb4c68a9",
   "metadata": {},
   "source": [
    "# REVIEW QUESTION 1"
   ]
  },
  {
   "cell_type": "code",
   "execution_count": 1,
   "id": "a28b51df-7818-4c52-9006-b6cbd59396cc",
   "metadata": {},
   "outputs": [
    {
     "name": "stdout",
     "output_type": "stream",
     "text": [
      "12\n"
     ]
    }
   ],
   "source": [
    "string = \"hello world!\"\n",
    "print(len(string))\n"
   ]
  },
  {
   "cell_type": "code",
   "execution_count": 2,
   "id": "65dbc666-4e2f-4516-b7fe-673629012449",
   "metadata": {},
   "outputs": [
    {
     "name": "stdout",
     "output_type": "stream",
     "text": [
      "Paul Alarbahow Are you?\n"
     ]
    }
   ],
   "source": [
    "string1 = \"Paul Alarba\"\n",
    "string2 = \"how Are you?\"\n",
    "\n",
    "concat1 = string1 + string2\n",
    "print(concat1)"
   ]
  },
  {
   "cell_type": "code",
   "execution_count": 3,
   "id": "cae516cf-48e8-4644-b58e-98a8530d9209",
   "metadata": {},
   "outputs": [
    {
     "name": "stdout",
     "output_type": "stream",
     "text": [
      "Paul Alarba how Are you?\n"
     ]
    }
   ],
   "source": [
    "Concat = string1 + \" \" + string2\n",
    "print(Concat)\n"
   ]
  },
  {
   "cell_type": "code",
   "execution_count": 4,
   "id": "4524408d-da6a-4a24-b69c-605323dbb990",
   "metadata": {},
   "outputs": [
    {
     "name": "stdout",
     "output_type": "stream",
     "text": [
      "fox\n"
     ]
    }
   ],
   "source": [
    "string3 = \"The quick brown fox jumped over the lazy dog. #1234567890!\"\n",
    "print(string3[16:19])\n"
   ]
  },
  {
   "cell_type": "markdown",
   "id": "95ccc472-a07b-40b1-a1fc-7bea82d498a5",
   "metadata": {},
   "source": [
    "# REVIEEW QUESTION 2"
   ]
  },
  {
   "cell_type": "code",
   "execution_count": 6,
   "id": "88b14b6b-c562-4971-b574-9aead04054b9",
   "metadata": {},
   "outputs": [
    {
     "name": "stdout",
     "output_type": "stream",
     "text": [
      "animals\n",
      "badger\n",
      "honey bee\n",
      "honeybadger\n"
     ]
    }
   ],
   "source": [
    "word1 = \"Animals\"\n",
    "word2 = \"Badger\"\n",
    "word3 = \"Honey bee\"\n",
    "word4 = \"HoneyBadger\"\n",
    "\n",
    "word1 = word1.lower()\n",
    "word2 = word2.lower()\n",
    "word3 = word3.lower()\n",
    "word4 = word4.lower()\n",
    "\n",
    "print(word1)\n",
    "print(word2)\n",
    "print(word3)\n",
    "print(word4)"
   ]
  },
  {
   "cell_type": "code",
   "execution_count": 8,
   "id": "f045678e-7e77-4c61-9ace-78056304964b",
   "metadata": {},
   "outputs": [
    {
     "name": "stdout",
     "output_type": "stream",
     "text": [
      "ANIMALS\n",
      "BADGER\n",
      "HONEY BEE\n",
      "HONEYBADGER\n"
     ]
    }
   ],
   "source": [
    "word1 = \"Animals\"\n",
    "word2 = \"Badger\"\n",
    "word3 = \"Honey bee\"\n",
    "word4 = \"HoneyBadger\"\n",
    "\n",
    "word1 = word1.upper()\n",
    "word2 = word2.upper()\n",
    "word3 = word3.upper()\n",
    "word4 = word4.upper()\n",
    "\n",
    "print(word1)\n",
    "print(word2)\n",
    "print(word3)\n",
    "print(word4)"
   ]
  },
  {
   "cell_type": "code",
   "execution_count": 9,
   "id": "f7348129-4a81-44f4-a8dc-752cb436b658",
   "metadata": {},
   "outputs": [
    {
     "name": "stdout",
     "output_type": "stream",
     "text": [
      "Filet Mignon\n",
      "Brisket\n"
     ]
    }
   ],
   "source": [
    "string4 = \" Filet Mignon\"\n",
    "#string4 = string4.lstrip() #remove whitespace from left\n",
    "print(string4.lstrip())\n",
    "string5 = \"Brisket \"\n",
    "print(string5.rstrip())\n"
   ]
  },
  {
   "cell_type": "code",
   "execution_count": 10,
   "id": "5dee7796-522b-48ef-a4f3-9cc971ead95c",
   "metadata": {},
   "outputs": [
    {
     "name": "stdout",
     "output_type": "stream",
     "text": [
      "True\n"
     ]
    }
   ],
   "source": [
    "string6 = \"Becomes\"\n",
    "string7 = \"becomes\"\n",
    "print(string7.startswith('be'))"
   ]
  },
  {
   "cell_type": "code",
   "execution_count": 11,
   "id": "dcc7f5c1-2e02-4f55-8f63-c19e87e6ef62",
   "metadata": {},
   "outputs": [
    {
     "name": "stdout",
     "output_type": "stream",
     "text": [
      "True\n",
      "True\n"
     ]
    }
   ],
   "source": [
    "string6 = string6.lower()\n",
    "print(string6.startswith('be'))\n",
    "print(string7.startswith('be'))"
   ]
  },
  {
   "cell_type": "markdown",
   "id": "b1256538-9a50-4887-8330-0e3c26062c60",
   "metadata": {},
   "source": [
    "# REVIEW QUESTION 3"
   ]
  },
  {
   "cell_type": "code",
   "execution_count": 17,
   "id": "07859432-6f04-4b5a-a3d8-3cf10f09e603",
   "metadata": {},
   "outputs": [
    {
     "name": "stdin",
     "output_type": "stream",
     "text": [
      "Hi what's your facebook account? paul alarba\n"
     ]
    },
    {
     "name": "stdout",
     "output_type": "stream",
     "text": [
      "You said: paul alarba\n"
     ]
    }
   ],
   "source": [
    "prompt = \"Hi what's your facebook account?\"\n",
    "user_input = input(prompt)\n",
    "print(\"You said:\", user_input)\n"
   ]
  },
  {
   "cell_type": "code",
   "execution_count": 18,
   "id": "8bf117f5-ef4a-46ba-a0bd-4ebdfb8267d1",
   "metadata": {},
   "outputs": [
    {
     "name": "stdin",
     "output_type": "stream",
     "text": [
      "What's Your full Name? Paul alarba\n"
     ]
    },
    {
     "name": "stdout",
     "output_type": "stream",
     "text": [
      "paul alarba\n"
     ]
    }
   ],
   "source": [
    "prompt1 = \"What's Your full Name?\"\n",
    "user_input1 = input(prompt1)\n",
    "user_input1 = user_input1.lower()\n",
    "print(user_input1)"
   ]
  },
  {
   "cell_type": "code",
   "execution_count": 19,
   "id": "fe5ffacc-612c-452e-8f88-6bdf496b9bb7",
   "metadata": {},
   "outputs": [
    {
     "name": "stdin",
     "output_type": "stream",
     "text": [
      "Where do yu live? Tamiao banatayan\n"
     ]
    },
    {
     "name": "stdout",
     "output_type": "stream",
     "text": [
      "16\n"
     ]
    }
   ],
   "source": [
    "prompt2 = \"Where do yu live?\"\n",
    "user_input2 = input(prompt2)\n",
    "#user_input2 = user_input2.len()\n",
    "print(len(user_input2))"
   ]
  },
  {
   "cell_type": "markdown",
   "id": "b03c8cf2-faf0-418a-b6e7-2fdf58685f5c",
   "metadata": {},
   "source": [
    "# REVIEW QUESTION 4"
   ]
  },
  {
   "cell_type": "code",
   "execution_count": 12,
   "id": "048b3e38-480b-4bda-abb8-32a2e872b5dc",
   "metadata": {},
   "outputs": [
    {
     "name": "stdout",
     "output_type": "stream",
     "text": [
      "144\n"
     ]
    }
   ],
   "source": [
    "num1 = '12'\n",
    "num1 = int(num1)\n",
    "num2 = 12\n",
    "result = num1 * num2\n",
    "print(result)"
   ]
  },
  {
   "cell_type": "code",
   "execution_count": 13,
   "id": "bdb4955b-16fe-4ca6-acc6-852d17479e08",
   "metadata": {},
   "outputs": [
    {
     "name": "stdout",
     "output_type": "stream",
     "text": [
      "144.0\n"
     ]
    }
   ],
   "source": [
    "num3 = '12'\n",
    "num3 = float(num3)\n",
    "\n",
    "result2 = num2 * num3\n",
    "print(result2)"
   ]
  },
  {
   "cell_type": "code",
   "execution_count": 14,
   "id": "19d93eca-b193-466a-96a8-3fd2fcfba889",
   "metadata": {},
   "outputs": [
    {
     "name": "stdout",
     "output_type": "stream",
     "text": [
      "Paul20\n"
     ]
    }
   ],
   "source": [
    "name = 'Paul'\n",
    "age = 20\n",
    "\n",
    "Str = name + str(age)\n",
    "print(Str)"
   ]
  },
  {
   "cell_type": "markdown",
   "id": "45043d15-79e3-4dd8-a5a6-42acd1d21649",
   "metadata": {},
   "source": [
    "# firstletter.PY"
   ]
  },
  {
   "cell_type": "code",
   "execution_count": 16,
   "id": "22132e50-905b-49e6-a1e9-0e90ddf35406",
   "metadata": {},
   "outputs": [
    {
     "name": "stdin",
     "output_type": "stream",
     "text": [
      "Tell me your name: paul\n"
     ]
    },
    {
     "name": "stdout",
     "output_type": "stream",
     "text": [
      "p\n"
     ]
    }
   ],
   "source": [
    "name = \"Tell me your name:\" \n",
    "name = input(name)\n",
    "name = (name[0:1])\n",
    "name = name.lower()\n",
    "print(name)"
   ]
  },
  {
   "cell_type": "markdown",
   "id": "49924b13-a144-46a9-bd81-c41a894fff9b",
   "metadata": {},
   "source": [
    "# REVIEW QUSTION 5"
   ]
  },
  {
   "cell_type": "code",
   "execution_count": 20,
   "id": "bdea0228-7bb2-4c8f-afa2-9450daf5e65f",
   "metadata": {},
   "outputs": [
    {
     "name": "stdout",
     "output_type": "stream",
     "text": [
      "-1\n"
     ]
    }
   ],
   "source": [
    "text = \"AAA\"\n",
    "text = text.find('a')\n",
    "print(text)"
   ]
  },
  {
   "cell_type": "code",
   "execution_count": 21,
   "id": "345d25cd-a0cf-48ac-87b0-b872803afc8c",
   "metadata": {},
   "outputs": [
    {
     "name": "stdout",
     "output_type": "stream",
     "text": [
      "yomebody yaid yomething to yamantha.\n"
     ]
    }
   ],
   "source": [
    "sentence = \"Somebody said something to Samantha.\".lower()\n",
    "text = sentence.replace(\"s\", \"y\")\n",
    "print(text)"
   ]
  },
  {
   "cell_type": "code",
   "execution_count": 22,
   "id": "82ec7311-6e31-45b3-b5d0-c159f7d640b0",
   "metadata": {},
   "outputs": [
    {
     "name": "stdin",
     "output_type": "stream",
     "text": [
      "ENTER YOUR NAME Paul Alarba\n"
     ]
    },
    {
     "name": "stdout",
     "output_type": "stream",
     "text": [
      "1\n"
     ]
    }
   ],
   "source": [
    "text = \"ENTER YOUR NAME\"\n",
    "user_input = input(text).find(\"a\")\n",
    "print(user_input)"
   ]
  },
  {
   "cell_type": "markdown",
   "id": "c3098c7d-cc04-4883-b018-b528a4be0ac5",
   "metadata": {},
   "source": [
    "# REVIEW QUESTION 6"
   ]
  },
  {
   "cell_type": "code",
   "execution_count": 26,
   "id": "51a945ba-1dee-47cd-8fc0-77aca92eaf1a",
   "metadata": {},
   "outputs": [
    {
     "name": "stdin",
     "output_type": "stream",
     "text": [
      "Enter some text:  paul alarbaeiost\n"
     ]
    },
    {
     "name": "stdout",
     "output_type": "stream",
     "text": [
      "p4ul 4l4r8431057\n"
     ]
    }
   ],
   "source": [
    "text = \"Enter some text: \"\n",
    "user_input = input(text)\n",
    "output = user_input.replace(\"a\", \"4\")\n",
    "output= output.replace(\"b\", \"8\")\n",
    "output = output.replace(\"e\", \"3\")\n",
    "output = output.replace(\"i\", \"1\")\n",
    "output = output.replace(\"o\", \"0\")\n",
    "output = output.replace(\"s\", \"5\")\n",
    "output = output.replace(\"t\", \"7\")\n",
    "print(output)"
   ]
  },
  {
   "cell_type": "code",
   "execution_count": null,
   "id": "6c79fdbd-b161-4a66-ad54-576ccfd1f4f5",
   "metadata": {},
   "outputs": [],
   "source": []
  }
 ],
 "metadata": {
  "kernelspec": {
   "display_name": "Python (myenv)",
   "language": "python",
   "name": "myenv"
  },
  "language_info": {
   "codemirror_mode": {
    "name": "ipython",
    "version": 3
   },
   "file_extension": ".py",
   "mimetype": "text/x-python",
   "name": "python",
   "nbconvert_exporter": "python",
   "pygments_lexer": "ipython3",
   "version": "3.10.18"
  }
 },
 "nbformat": 4,
 "nbformat_minor": 5
}
