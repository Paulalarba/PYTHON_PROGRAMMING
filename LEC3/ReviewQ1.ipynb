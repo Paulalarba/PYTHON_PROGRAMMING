{
 "cells": [
  {
   "cell_type": "markdown",
   "id": "2ddec915-2ef4-4b18-a769-72b6cf94c019",
   "metadata": {},
   "source": [
    "# lEC3 FUNCTION AND LOOPS"
   ]
  },
  {
   "cell_type": "markdown",
   "id": "47b31bcd-c446-48fc-8fd7-1d65e38614e8",
   "metadata": {},
   "source": [
    "# Review question 1"
   ]
  },
  {
   "cell_type": "code",
   "execution_count": 14,
   "id": "3f81ab95-5547-4d84-af7c-7a5533ff598c",
   "metadata": {},
   "outputs": [
    {
     "name": "stdout",
     "output_type": "stream",
     "text": [
      "8\n",
      "125\n"
     ]
    }
   ],
   "source": [
    "def cube(number):\n",
    "    return number ** 3\n",
    "print(cube(2))\n",
    "print(cube(5))"
   ]
  },
  {
   "cell_type": "code",
   "execution_count": 25,
   "id": "ebeaa146-e959-474c-aa08-009d974c4dd3",
   "metadata": {},
   "outputs": [
    {
     "name": "stdout",
     "output_type": "stream",
     "text": [
      "Hello, Paul\n"
     ]
    }
   ],
   "source": [
    "def greet(name):\n",
    "    print(f\"Hello, {name}\")\n",
    "greet(\"Paul\")"
   ]
  },
  {
   "cell_type": "code",
   "execution_count": null,
   "id": "08e9ba45-8f47-4198-89c8-8b63103f66bd",
   "metadata": {},
   "outputs": [],
   "source": []
  },
  {
   "cell_type": "code",
   "execution_count": null,
   "id": "6db7ce9c-949b-457b-8d0e-1df4556a7ffc",
   "metadata": {},
   "outputs": [],
   "source": []
  }
 ],
 "metadata": {
  "kernelspec": {
   "display_name": "Python (myenv)",
   "language": "python",
   "name": "myenv"
  },
  "language_info": {
   "codemirror_mode": {
    "name": "ipython",
    "version": 3
   },
   "file_extension": ".py",
   "mimetype": "text/x-python",
   "name": "python",
   "nbconvert_exporter": "python",
   "pygments_lexer": "ipython3",
   "version": "3.10.18"
  }
 },
 "nbformat": 4,
 "nbformat_minor": 5
}
