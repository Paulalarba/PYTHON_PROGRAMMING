{
 "cells": [
  {
   "cell_type": "markdown",
   "id": "87899e68-beca-4da3-8c04-909b6174c240",
   "metadata": {},
   "source": [
    "# 1st Long Exam September 10, 2025"
   ]
  },
  {
   "cell_type": "markdown",
   "id": "dd979d53-9028-4f67-b916-eb389a518b53",
   "metadata": {},
   "source": [
    "# Paul N. Alarba ID 2375417"
   ]
  },
  {
   "cell_type": "code",
   "execution_count": 1,
   "id": "340fe5a7-d0ed-43ef-9391-e4d620d5817d",
   "metadata": {},
   "outputs": [
    {
     "name": "stdin",
     "output_type": "stream",
     "text": [
      "HI! What is your name?:  paul\n"
     ]
    },
    {
     "name": "stdout",
     "output_type": "stream",
     "text": [
      "Hello! paul\n"
     ]
    }
   ],
   "source": [
    "name = input(\"HI! What is your name?: \")\n",
    "print(f\"Hello! {name}\")"
   ]
  },
  {
   "cell_type": "code",
   "execution_count": 13,
   "id": "7db9a218-62f3-4014-8dd7-c2e1a4737dee",
   "metadata": {},
   "outputs": [
    {
     "name": "stdin",
     "output_type": "stream",
     "text": [
      "input a possitive integer:  8\n"
     ]
    },
    {
     "ename": "TypeError",
     "evalue": "can only concatenate str (not \"int\") to str",
     "output_type": "error",
     "traceback": [
      "\u001b[1;31m---------------------------------------------------------------------------\u001b[0m",
      "\u001b[1;31mTypeError\u001b[0m                                 Traceback (most recent call last)",
      "Cell \u001b[1;32mIn[13], line 2\u001b[0m\n\u001b[0;32m      1\u001b[0m num \u001b[38;5;241m=\u001b[39m \u001b[38;5;28minput\u001b[39m(\u001b[38;5;124m\"\u001b[39m\u001b[38;5;124minput a possitive integer: \u001b[39m\u001b[38;5;124m\"\u001b[39m)\n\u001b[1;32m----> 2\u001b[0m \u001b[38;5;28msum\u001b[39m \u001b[38;5;241m=\u001b[39m num(\u001b[43mnum\u001b[49m\u001b[43m \u001b[49m\u001b[38;5;241;43m+\u001b[39;49m\u001b[43m \u001b[49m\u001b[38;5;241;43m1\u001b[39;49m)\u001b[38;5;241m/\u001b[39m\u001b[38;5;241m2\u001b[39m\n\u001b[0;32m      3\u001b[0m \u001b[38;5;28mprint\u001b[39m(\u001b[38;5;124mf\u001b[39m\u001b[38;5;124m\"\u001b[39m\u001b[38;5;124msum \u001b[39m\u001b[38;5;132;01m{\u001b[39;00m\u001b[38;5;28msum\u001b[39m\u001b[38;5;132;01m}\u001b[39;00m\u001b[38;5;124m1\u001b[39m\u001b[38;5;124m\"\u001b[39m)\n",
      "\u001b[1;31mTypeError\u001b[0m: can only concatenate str (not \"int\") to str"
     ]
    }
   ],
   "source": [
    "num = input(\"input a possitive integer: \")\n",
    "sum = num(num + 1)/2\n",
    "print(f\"sum {sum}1\")"
   ]
  },
  {
   "cell_type": "code",
   "execution_count": 10,
   "id": "6c1b14e3-b7e9-451f-9a54-a76c5d4b0992",
   "metadata": {},
   "outputs": [
    {
     "name": "stdin",
     "output_type": "stream",
     "text": [
      "input a letter from alphabet:  h\n"
     ]
    },
    {
     "name": "stdout",
     "output_type": "stream",
     "text": [
      "you input a vowel\n"
     ]
    }
   ],
   "source": [
    "letter = input(\"input a letter from alphabet: \")\n",
    "if letter == 'a' or 'e':\n",
    "    print(\"you input a vowel\")\n",
    "elif letter == 'i' or 'o':\n",
    "    print(\"you input a vowel\")\n",
    "elif letter == 'u':\n",
    "    print(\"you input a vowel\")\n",
    "elif letter == 'y':\n",
    "    print(\"Sometimes y is a vowel and sometimes y is constant\")\n",
    "else:\n",
    "    print(\"the letter is consonant\")"
   ]
  },
  {
   "cell_type": "code",
   "execution_count": 14,
   "id": "ab5991e8-91f7-455a-b9cc-a7b565bbd445",
   "metadata": {},
   "outputs": [
    {
     "ename": "NameError",
     "evalue": "name 'a' is not defined",
     "output_type": "error",
     "traceback": [
      "\u001b[1;31m---------------------------------------------------------------------------\u001b[0m",
      "\u001b[1;31mNameError\u001b[0m                                 Traceback (most recent call last)",
      "Cell \u001b[1;32mIn[14], line 6\u001b[0m\n\u001b[0;32m      4\u001b[0m     h \u001b[38;5;241m=\u001b[39m (a \u001b[38;5;241m+\u001b[39m b) (a \u001b[38;5;241m+\u001b[39m b) \u001b[38;5;241m/\u001b[39m \u001b[38;5;241m0.5\u001b[39m\n\u001b[0;32m      5\u001b[0m     \u001b[38;5;28;01mreturn\u001b[39;00m h\n\u001b[1;32m----> 6\u001b[0m ans \u001b[38;5;241m=\u001b[39m triangle(\u001b[43ma\u001b[49m,b)\n\u001b[0;32m      7\u001b[0m \u001b[38;5;28mprint\u001b[39m(\u001b[38;5;124mf\u001b[39m\u001b[38;5;124m\"\u001b[39m\u001b[38;5;124mthe answer: \u001b[39m\u001b[38;5;132;01m{\u001b[39;00mans\u001b[38;5;132;01m}\u001b[39;00m\u001b[38;5;124m\"\u001b[39m)\n",
      "\u001b[1;31mNameError\u001b[0m: name 'a' is not defined"
     ]
    }
   ],
   "source": [
    "def triangle(a,b):\n",
    "    a = input(\"lenght of a: \")\n",
    "    b = input(\"lenght of b :\")\n",
    "    h = (a + b) (a + b) / 0.5\n",
    "    return h\n",
    "ans = triangle(a,b)\n",
    "print(f\"the answer: {ans}\")"
   ]
  },
  {
   "cell_type": "code",
   "execution_count": null,
   "id": "621f1f6d-3076-4a99-800c-a66eca9866b7",
   "metadata": {},
   "outputs": [],
   "source": []
  }
 ],
 "metadata": {
  "kernelspec": {
   "display_name": "Python 3 (ipykernel)",
   "language": "python",
   "name": "python3"
  },
  "language_info": {
   "codemirror_mode": {
    "name": "ipython",
    "version": 3
   },
   "file_extension": ".py",
   "mimetype": "text/x-python",
   "name": "python",
   "nbconvert_exporter": "python",
   "pygments_lexer": "ipython3",
   "version": "3.10.18"
  }
 },
 "nbformat": 4,
 "nbformat_minor": 5
}
