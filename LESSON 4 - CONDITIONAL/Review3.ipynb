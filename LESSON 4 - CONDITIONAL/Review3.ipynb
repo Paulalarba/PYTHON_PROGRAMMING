{
 "cells": [
  {
   "cell_type": "markdown",
   "id": "7cda46ed-e43c-451b-af3d-ef33abe827bb",
   "metadata": {},
   "source": [
    "# ReviewQ 3"
   ]
  },
  {
   "cell_type": "code",
   "execution_count": 19,
   "id": "ec5bf703-4faf-4cf3-aa59-49ce4e98010e",
   "metadata": {},
   "outputs": [
    {
     "name": "stdin",
     "output_type": "stream",
     "text": [
      "INTER YOUR NAME:  paulo\n"
     ]
    },
    {
     "name": "stdout",
     "output_type": "stream",
     "text": [
      "lenght is equal to 5\n"
     ]
    }
   ],
   "source": [
    "name = input(\"INTER YOUR NAME: \")\n",
    "name = len(name)\n",
    "\n",
    "if name < 5:\n",
    "    print(f\"lenght is less than 5\")\n",
    "elif name > 5:\n",
    "    print(f\"lenght is greater then 5\")\n",
    "else:\n",
    "    name == 5\n",
    "    print(f\"lenght is equal to 5\")"
   ]
  },
  {
   "cell_type": "code",
   "execution_count": null,
   "id": "e07c346e-bcac-410e-9a21-36e6aa3b3ece",
   "metadata": {},
   "outputs": [],
   "source": []
  }
 ],
 "metadata": {
  "kernelspec": {
   "display_name": "Python (myenv)",
   "language": "python",
   "name": "myenv"
  },
  "language_info": {
   "codemirror_mode": {
    "name": "ipython",
    "version": 3
   },
   "file_extension": ".py",
   "mimetype": "text/x-python",
   "name": "python",
   "nbconvert_exporter": "python",
   "pygments_lexer": "ipython3",
   "version": "3.10.18"
  }
 },
 "nbformat": 4,
 "nbformat_minor": 5
}
