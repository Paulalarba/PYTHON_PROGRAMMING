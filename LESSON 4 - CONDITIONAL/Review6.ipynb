{
 "cells": [
  {
   "cell_type": "markdown",
   "id": "1430442a-17ff-4b86-94fa-be747a44209f",
   "metadata": {},
   "source": [
    "# ReviewQ 6 simulate events and calculate probalities"
   ]
  },
  {
   "cell_type": "code",
   "execution_count": 3,
   "id": "b4aaa986-7fd6-4d79-a5cd-792f82336d05",
   "metadata": {},
   "outputs": [
    {
     "name": "stdout",
     "output_type": "stream",
     "text": [
      "YOU ROOLED A: 6\n"
     ]
    }
   ],
   "source": [
    "import random\n",
    "\n",
    "def rool():\n",
    "    return random.randint(1, 6)\n",
    "\n",
    "result = rool()\n",
    "print(f\"YOU ROOLED A: {result}\")"
   ]
  },
  {
   "cell_type": "code",
   "execution_count": 16,
   "id": "3f9a58ae-b569-4428-ae4c-5c3e26b0a169",
   "metadata": {},
   "outputs": [
    {
     "name": "stdout",
     "output_type": "stream",
     "text": [
      "Average number rooled: 3.49\n"
     ]
    }
   ],
   "source": [
    "import random\n",
    "\n",
    "def roll():\n",
    "    return random.randint(1, 6)\n",
    "total = 0\n",
    "num_rolls = 10_000\n",
    "\n",
    "for _ in range(num_rolls):\n",
    "    total += roll()\n",
    "avarage = total / num_rolls\n",
    "print(f\"Average number rooled: {avarage:.2f}\")\n"
   ]
  },
  {
   "cell_type": "code",
   "execution_count": 1,
   "id": "3f4b0c50-ff4c-4c19-97b9-36df83ea8974",
   "metadata": {},
   "outputs": [
    {
     "name": "stdout",
     "output_type": "stream",
     "text": [
      "Simulated probability A wins ≥2 regions: 0.630480 (63.048%) over 100,000 trials\n"
     ]
    }
   ],
   "source": [
    "import random\n",
    "\n",
    "p1, p2, p3 = 0.87, 0.65, 0.17\n",
    "trials = 100_000\n",
    "wins = 0\n",
    "\n",
    "for _ in range(trials):\n",
    "    r1 = random.random() < p1\n",
    "    r2 = random.random() < p2\n",
    "    r3 = random.random() < p3\n",
    "    if (r1 + r2 + r3) >= 2:\n",
    "        wins += 1\n",
    "\n",
    "estimate = wins / trials\n",
    "print(f\"Simulated probability A wins ≥2 regions: {estimate:.6f} ({estimate*100:.3f}%) over {trials:,} trials\")"
   ]
  }
 ],
 "metadata": {
  "kernelspec": {
   "display_name": "Python (myenv)",
   "language": "python",
   "name": "myenv"
  },
  "language_info": {
   "codemirror_mode": {
    "name": "ipython",
    "version": 3
   },
   "file_extension": ".py",
   "mimetype": "text/x-python",
   "name": "python",
   "nbconvert_exporter": "python",
   "pygments_lexer": "ipython3",
   "version": "3.10.18"
  }
 },
 "nbformat": 4,
 "nbformat_minor": 5
}
