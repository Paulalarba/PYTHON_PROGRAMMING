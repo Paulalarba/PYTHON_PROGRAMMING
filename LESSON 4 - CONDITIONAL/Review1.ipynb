{
 "cells": [
  {
   "cell_type": "markdown",
   "id": "0b0c2352-c426-4d20-973f-add27e0c4c4f",
   "metadata": {},
   "source": [
    "# Review Question1"
   ]
  },
  {
   "cell_type": "code",
   "execution_count": 3,
   "id": "23373ff8-29be-4737-803c-82605e83f29f",
   "metadata": {},
   "outputs": [
    {
     "data": {
      "text/plain": [
       "False"
      ]
     },
     "execution_count": 3,
     "metadata": {},
     "output_type": "execute_result"
    }
   ],
   "source": [
    "1 <= 1"
   ]
  },
  {
   "cell_type": "code",
   "execution_count": 4,
   "id": "7d2ad079-9a70-45cd-8cde-03fdcb9f2d4c",
   "metadata": {},
   "outputs": [
    {
     "data": {
      "text/plain": [
       "False"
      ]
     },
     "execution_count": 4,
     "metadata": {},
     "output_type": "execute_result"
    }
   ],
   "source": [
    "1 != 1"
   ]
  },
  {
   "cell_type": "code",
   "execution_count": 5,
   "id": "0ad0161a-6c56-4a26-8679-a9e7e8d9a4aa",
   "metadata": {},
   "outputs": [
    {
     "data": {
      "text/plain": [
       "True"
      ]
     },
     "execution_count": 5,
     "metadata": {},
     "output_type": "execute_result"
    }
   ],
   "source": [
    "1 != 2"
   ]
  },
  {
   "cell_type": "code",
   "execution_count": 6,
   "id": "ba2055c9-120d-4b29-a8e0-43270848f60b",
   "metadata": {},
   "outputs": [
    {
     "data": {
      "text/plain": [
       "True"
      ]
     },
     "execution_count": 6,
     "metadata": {},
     "output_type": "execute_result"
    }
   ],
   "source": [
    "\"good\" != \"bad\""
   ]
  },
  {
   "cell_type": "code",
   "execution_count": 7,
   "id": "4d0df80e-47db-4258-bf61-351ebdeca59b",
   "metadata": {},
   "outputs": [
    {
     "data": {
      "text/plain": [
       "True"
      ]
     },
     "execution_count": 7,
     "metadata": {},
     "output_type": "execute_result"
    }
   ],
   "source": [
    "\"good\" != \"Good\""
   ]
  },
  {
   "cell_type": "code",
   "execution_count": 8,
   "id": "006907b9-df66-40bc-a679-9bee863235df",
   "metadata": {},
   "outputs": [
    {
     "data": {
      "text/plain": [
       "False"
      ]
     },
     "execution_count": 8,
     "metadata": {},
     "output_type": "execute_result"
    }
   ],
   "source": [
    "123 == \"123\""
   ]
  },
  {
   "cell_type": "markdown",
   "id": "d441e78b-fb40-4611-94b4-41056b5e1c5f",
   "metadata": {},
   "source": [
    "# Review 2"
   ]
  },
  {
   "cell_type": "code",
   "execution_count": 13,
   "id": "00637a4d-aecb-4d17-9860-ba0475fe9c7f",
   "metadata": {},
   "outputs": [
    {
     "data": {
      "text/plain": [
       "True"
      ]
     },
     "execution_count": 13,
     "metadata": {},
     "output_type": "execute_result"
    }
   ],
   "source": [
    "3 < 4"
   ]
  },
  {
   "cell_type": "code",
   "execution_count": 10,
   "id": "83d2346d-2b77-441b-9e54-a7ffb5752911",
   "metadata": {},
   "outputs": [
    {
     "data": {
      "text/plain": [
       "True"
      ]
     },
     "execution_count": 10,
     "metadata": {},
     "output_type": "execute_result"
    }
   ],
   "source": [
    "10 > 5"
   ]
  },
  {
   "cell_type": "code",
   "execution_count": 11,
   "id": "e5a43ebe-d0a3-4275-8a5f-d1bb197261c0",
   "metadata": {},
   "outputs": [
    {
     "data": {
      "text/plain": [
       "True"
      ]
     },
     "execution_count": 11,
     "metadata": {},
     "output_type": "execute_result"
    }
   ],
   "source": [
    "\"jack\" != \"jill\""
   ]
  },
  {
   "cell_type": "code",
   "execution_count": 12,
   "id": "dd7debfb-dddb-4451-b2f4-5e6233cf20f6",
   "metadata": {},
   "outputs": [
    {
     "data": {
      "text/plain": [
       "True"
      ]
     },
     "execution_count": 12,
     "metadata": {},
     "output_type": "execute_result"
    }
   ],
   "source": [
    "42 != \"42\""
   ]
  },
  {
   "cell_type": "code",
   "execution_count": null,
   "id": "8b949463-e3ee-4cde-bc2f-0247ec0d4a73",
   "metadata": {},
   "outputs": [],
   "source": []
  }
 ],
 "metadata": {
  "kernelspec": {
   "display_name": "Python (myenv)",
   "language": "python",
   "name": "myenv"
  },
  "language_info": {
   "codemirror_mode": {
    "name": "ipython",
    "version": 3
   },
   "file_extension": ".py",
   "mimetype": "text/x-python",
   "name": "python",
   "nbconvert_exporter": "python",
   "pygments_lexer": "ipython3",
   "version": "3.10.18"
  }
 },
 "nbformat": 4,
 "nbformat_minor": 5
}
