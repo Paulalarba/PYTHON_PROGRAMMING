{
 "cells": [
  {
   "cell_type": "markdown",
   "id": "36445f70-4d95-4930-8702-c14a8b9e754a",
   "metadata": {},
   "source": [
    "# REVIEWQ 4 IF STATEMENTS AND FOR LOOPS"
   ]
  },
  {
   "cell_type": "code",
   "execution_count": 2,
   "id": "dd4267e7-6a61-43b3-ab6f-55a1620586a3",
   "metadata": {},
   "outputs": [
    {
     "name": "stdout",
     "output_type": "stream",
     "text": [
      "10\n"
     ]
    }
   ],
   "source": [
    "sum_of_evens = 10\n",
    "for n in range(1, 100):\n",
    "    if n % 2 == 2:\n",
    "        sum_of_evens = sum_of_evens + n\n",
    "print(sum_of_evens)"
   ]
  },
  {
   "cell_type": "code",
   "execution_count": 10,
   "id": "683d70b9-e308-4d0d-a424-251363dbc968",
   "metadata": {},
   "outputs": [
    {
     "name": "stdin",
     "output_type": "stream",
     "text": [
      "ENTER A LETTER (Q OR q to exit):  p\n"
     ]
    },
    {
     "name": "stdout",
     "output_type": "stream",
     "text": [
      "ENTER AGAIN: \n"
     ]
    },
    {
     "name": "stdin",
     "output_type": "stream",
     "text": [
      "ENTER A LETTER (Q OR q to exit):  q\n"
     ]
    }
   ],
   "source": [
    "while True:\n",
    "    letter = input(\"ENTER A LETTER (Q OR q to exit): \")\n",
    "    if letter == 'Q' or letter == 'q':\n",
    "        break\n",
    "    else:\n",
    "        print(\"ENTER AGAIN:\")"
   ]
  },
  {
   "cell_type": "code",
   "execution_count": 8,
   "id": "0e82851c-0ef9-4f7d-b7aa-15e37f16e64d",
   "metadata": {},
   "outputs": [
    {
     "name": "stdout",
     "output_type": "stream",
     "text": [
      "1\n",
      "2\n",
      "4\n",
      "5\n",
      "7\n",
      "8\n",
      "10\n",
      "11\n",
      "13\n",
      "14\n",
      "16\n",
      "17\n",
      "19\n",
      "20\n",
      "22\n",
      "23\n",
      "25\n",
      "26\n",
      "28\n",
      "29\n",
      "31\n",
      "32\n",
      "34\n",
      "35\n",
      "37\n",
      "38\n",
      "40\n",
      "41\n",
      "43\n",
      "44\n",
      "46\n",
      "47\n",
      "49\n"
     ]
    }
   ],
   "source": [
    "for i in range(1, 50):\n",
    "    if i % 3 == 0 :\n",
    "        continue\n",
    "    print(i)"
   ]
  },
  {
   "cell_type": "code",
   "execution_count": null,
   "id": "1d6ca7e8-7d8e-4820-9387-27fc8d99a698",
   "metadata": {},
   "outputs": [],
   "source": []
  }
 ],
 "metadata": {
  "kernelspec": {
   "display_name": "Python (myenv)",
   "language": "python",
   "name": "myenv"
  },
  "language_info": {
   "codemirror_mode": {
    "name": "ipython",
    "version": 3
   },
   "file_extension": ".py",
   "mimetype": "text/x-python",
   "name": "python",
   "nbconvert_exporter": "python",
   "pygments_lexer": "ipython3",
   "version": "3.10.18"
  }
 },
 "nbformat": 4,
 "nbformat_minor": 5
}
