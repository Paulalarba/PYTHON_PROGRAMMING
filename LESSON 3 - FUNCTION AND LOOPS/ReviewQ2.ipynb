{
 "cells": [
  {
   "cell_type": "markdown",
   "id": "69e0c66a-8e3e-48b1-bec7-622df4f41d64",
   "metadata": {},
   "source": [
    "# challenge: convert temperatures"
   ]
  },
  {
   "cell_type": "code",
   "execution_count": 15,
   "id": "cc1efa2e-3c9a-44e3-a6ec-08dd843ad138",
   "metadata": {},
   "outputs": [
    {
     "name": "stdin",
     "output_type": "stream",
     "text": [
      "Enter a temperature in degrees C:  37\n"
     ]
    },
    {
     "name": "stdout",
     "output_type": "stream",
     "text": [
      "37.00 Celsius = Fahrenheit: 98.60\n"
     ]
    }
   ],
   "source": [
    "def convert_cel_to_far(degrees_cel):\n",
    "    fahrenheit = (degrees_cel * 9/5) + 32\n",
    "    return fahrenheit\n",
    "degrees_cel = float(input(f\"Enter a temperature in degrees C: \"))\n",
    "fahrenheit = convert_cel_to_far(degrees_cel)\n",
    "print(f\"{degrees_cel:.2f} Celsius = Fahrenheit: {fahrenheit:.2f}\")"
   ]
  },
  {
   "cell_type": "code",
   "execution_count": 23,
   "id": "45703ce7-815f-40fc-9800-f1611caea6dd",
   "metadata": {},
   "outputs": [
    {
     "name": "stdin",
     "output_type": "stream",
     "text": [
      "Enter a temperature in degress F:  72\n"
     ]
    },
    {
     "name": "stdout",
     "output_type": "stream",
     "text": [
      "72.00 Fahrenheit: = Celsius: 22.22\n"
     ]
    }
   ],
   "source": [
    "def convert_far_to_cel(degrees_far):\n",
    "    celsius = (degrees_far - 32) * 5/9\n",
    "    return celsius\n",
    "degress_far = float(input(f\"Enter a temperature in degress F: \"))\n",
    "celsius = convert_far_to_cel(degress_far)\n",
    "print(f\"{degress_far:.2f} Fahrenheit: = Celsius: {celsius:.2f}\")"
   ]
  },
  {
   "cell_type": "code",
   "execution_count": null,
   "id": "7d5f83fa-a842-4da5-b3a4-581f345ff0b5",
   "metadata": {},
   "outputs": [],
   "source": []
  }
 ],
 "metadata": {
  "kernelspec": {
   "display_name": "Python (myenv)",
   "language": "python",
   "name": "myenv"
  },
  "language_info": {
   "codemirror_mode": {
    "name": "ipython",
    "version": 3
   },
   "file_extension": ".py",
   "mimetype": "text/x-python",
   "name": "python",
   "nbconvert_exporter": "python",
   "pygments_lexer": "ipython3",
   "version": "3.10.18"
  }
 },
 "nbformat": 4,
 "nbformat_minor": 5
}
