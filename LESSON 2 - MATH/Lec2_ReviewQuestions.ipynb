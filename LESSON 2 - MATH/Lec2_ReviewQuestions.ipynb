{
 "cells": [
  {
   "cell_type": "markdown",
   "id": "19ff0b98-ede5-439e-9fd5-489677ca956b",
   "metadata": {},
   "source": [
    "# LEC 2"
   ]
  },
  {
   "cell_type": "markdown",
   "id": "d17f20ce-6bf1-4d9b-9ba9-61cde91af58b",
   "metadata": {},
   "source": [
    "# REVIEW QUESTION 1"
   ]
  },
  {
   "cell_type": "code",
   "execution_count": 1,
   "id": "0a920ab2-6466-4d2d-8756-25408fbaffc7",
   "metadata": {},
   "outputs": [
    {
     "name": "stdout",
     "output_type": "stream",
     "text": [
      "25000000\n",
      "25000000\n"
     ]
    }
   ],
   "source": [
    "num1 = 25000000\n",
    "num2 = 25_000_000\n",
    "\n",
    "print(num1)\n",
    "print(num2)"
   ]
  },
  {
   "cell_type": "code",
   "execution_count": 2,
   "id": "6dc6250d-01b4-4b91-988c-5c34d469dbb2",
   "metadata": {},
   "outputs": [
    {
     "name": "stdout",
     "output_type": "stream",
     "text": [
      "175000.0\n"
     ]
    }
   ],
   "source": [
    "num = 1.75e5\n",
    "print(num)"
   ]
  },
  {
   "cell_type": "code",
   "execution_count": 2,
   "id": "d007c117-5907-4cca-933f-631d694444ac",
   "metadata": {},
   "outputs": [
    {
     "name": "stdout",
     "output_type": "stream",
     "text": [
      "inf\n"
     ]
    }
   ],
   "source": [
    "N = 308\n",
    "print(2e308)"
   ]
  },
  {
   "cell_type": "markdown",
   "id": "22a32c7e-793c-4683-a5d4-43345031e17d",
   "metadata": {},
   "source": [
    "# REVIEW QUESTION 2"
   ]
  },
  {
   "cell_type": "code",
   "execution_count": 6,
   "id": "221aeb69-02a7-4ecd-bea7-e9092f6f78a6",
   "metadata": {},
   "outputs": [
    {
     "name": "stdin",
     "output_type": "stream",
     "text": [
      "ENTER A NUMBER:  12.2312\n"
     ]
    },
    {
     "name": "stdout",
     "output_type": "stream",
     "text": [
      "12.2312 rounded to 2 decimal places is 12.23\n"
     ]
    }
   ],
   "source": [
    "round_num = float(input('ENTER A NUMBER: '))\n",
    "print(f\"{round_num} rounded to 2 decimal places is {round_num :.2f}\")"
   ]
  },
  {
   "cell_type": "code",
   "execution_count": 3,
   "id": "79525424-5a8b-498d-8fa2-e438f9eafd58",
   "metadata": {},
   "outputs": [
    {
     "name": "stdin",
     "output_type": "stream",
     "text": [
      "ENTER A NUMBER:  -10\n"
     ]
    },
    {
     "name": "stdout",
     "output_type": "stream",
     "text": [
      "The absolute value of -10.0 is 10.0\n"
     ]
    }
   ],
   "source": [
    "abs_num = float(input('ENTER A NUMBER: '))\n",
    "print(f\"The absolute value of {abs_num} is {abs(abs_num)}\")"
   ]
  },
  {
   "cell_type": "markdown",
   "id": "8b6ba896-5669-409d-bb36-8d46d9e02c1f",
   "metadata": {},
   "source": [
    "# Review question 3"
   ]
  },
  {
   "cell_type": "code",
   "execution_count": 9,
   "id": "76a4d06b-95e8-4a3d-97cd-6a4bd8d6e78a",
   "metadata": {},
   "outputs": [
    {
     "name": "stdin",
     "output_type": "stream",
     "text": [
      "Enter a number: 1.5\n",
      "Enter another number .5\n"
     ]
    },
    {
     "name": "stdout",
     "output_type": "stream",
     "text": [
      "The difference between 1.5 and 0.5 is an integer? True\n"
     ]
    }
   ],
   "source": [
    "first_num = float(input('Enter a number:'))\n",
    "second_num = float(input('Enter another number'))\n",
    "\n",
    "difference = first_num - second_num\n",
    "print(f\"The difference between {first_num} and {second_num} is an integer? {difference.is_integer()}\")"
   ]
  },
  {
   "cell_type": "markdown",
   "id": "5db17055-af30-4796-a7aa-70ccf2425d31",
   "metadata": {},
   "source": [
    "# Review question 4"
   ]
  },
  {
   "cell_type": "code",
   "execution_count": 10,
   "id": "d13980bc-c956-4e98-93a4-ff2beca70976",
   "metadata": {},
   "outputs": [
    {
     "name": "stdout",
     "output_type": "stream",
     "text": [
      "1.147\n"
     ]
    }
   ],
   "source": [
    "result = 3**.125\n",
    "print(f\"{result:.3f}\")"
   ]
  },
  {
   "cell_type": "code",
   "execution_count": 12,
   "id": "a658c07d-ec3b-4289-9afd-4fc2c3f35df8",
   "metadata": {},
   "outputs": [
    {
     "name": "stdout",
     "output_type": "stream",
     "text": [
      "$150,000.00 \n"
     ]
    }
   ],
   "source": [
    "number = 150000\n",
    "print(f\"${number:,.2f} \")"
   ]
  },
  {
   "cell_type": "code",
   "execution_count": 16,
   "id": "a22dc3b0-473e-427e-8433-1c4be4e16ac2",
   "metadata": {},
   "outputs": [
    {
     "name": "stdout",
     "output_type": "stream",
     "text": [
      "20%\n"
     ]
    }
   ],
   "source": [
    "percentage = 2/10\n",
    "print(f\"{percentage:.0%}\")"
   ]
  },
  {
   "cell_type": "code",
   "execution_count": null,
   "id": "04cedc4f-39ec-4512-8011-810c054e2105",
   "metadata": {},
   "outputs": [],
   "source": []
  }
 ],
 "metadata": {
  "kernelspec": {
   "display_name": "Python (myenv)",
   "language": "python",
   "name": "myenv"
  },
  "language_info": {
   "codemirror_mode": {
    "name": "ipython",
    "version": 3
   },
   "file_extension": ".py",
   "mimetype": "text/x-python",
   "name": "python",
   "nbconvert_exporter": "python",
   "pygments_lexer": "ipython3",
   "version": "3.10.18"
  }
 },
 "nbformat": 4,
 "nbformat_minor": 5
}
