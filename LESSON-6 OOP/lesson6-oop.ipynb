{
 "cells": [
  {
   "cell_type": "markdown",
   "id": "b5d3f4bb-bdb0-4119-8aa3-881654318a9a",
   "metadata": {},
   "source": [
    "# LESSON 6 OOP"
   ]
  },
  {
   "cell_type": "markdown",
   "id": "6eea27cd-f3b8-492e-b260-abab43c8a4fe",
   "metadata": {},
   "source": [
    "#  REVIEW EXERCISE NO 1"
   ]
  },
  {
   "cell_type": "code",
   "execution_count": 2,
   "id": "572caf19-2e74-4e5c-a6a3-0ab1f9245f13",
   "metadata": {},
   "outputs": [
    {
     "name": "stdout",
     "output_type": "stream",
     "text": [
      "Philo's coat is brown\n"
     ]
    }
   ],
   "source": [
    "class Dog:\n",
    "    def __init__(self, name, age, coat_color):\n",
    "        self.name = name\n",
    "        self.age = age\n",
    "        self.coat_color = coat_color\n",
    "    \n",
    "    def description(self):\n",
    "        print(f\"{self.name}'s coat is {self.coat_color}\")\n",
    "\n",
    "my_dog = Dog(\"Philo\", 5, \"brown\")\n",
    "my_dog.description()"
   ]
  },
  {
   "cell_type": "code",
   "execution_count": 3,
   "id": "8ad204ce-a0af-4e8d-8d29-e83766487701",
   "metadata": {},
   "outputs": [
    {
     "name": "stdout",
     "output_type": "stream",
     "text": [
      "The blue car has 20000 miles.\n",
      "The red car has 30000 miles.\n"
     ]
    }
   ],
   "source": [
    "class Car:\n",
    "    def __init__(self, color, mileage):\n",
    "        self.color = color\n",
    "        self.mileage = mileage\n",
    "    \n",
    "    def blue_car(self):\n",
    "        print(f\"The {self.color} car has {self.mileage} miles.\")\n",
    "\n",
    "    def red_car(self):\n",
    "        print(f\"The {self.color} car has {self.mileage} miles.\")\n",
    "\n",
    "car1 = Car(\"blue\", 20000)\n",
    "car1.blue_car()\n",
    "car2 =Car(\"red\", 30000)\n",
    "car2.red_car()"
   ]
  },
  {
   "cell_type": "code",
   "execution_count": 1,
   "id": "6a6eac29-0777-4cd5-a792-4b46c78de4b1",
   "metadata": {},
   "outputs": [
    {
     "name": "stdout",
     "output_type": "stream",
     "text": [
      "Blue car, miles: 100\n"
     ]
    }
   ],
   "source": [
    "class Car:\n",
    "    def __init__(self, color, mileage):\n",
    "        self.color = color\n",
    "        self.mileage = mileage\n",
    "    \n",
    "    def blue_car(self):\n",
    "        print(f\"The {self.color} car has {self.mileage} miles.\")\n",
    "\n",
    "    def red_car(self):\n",
    "        print(f\"The {self.color} car has {self.mileage} miles.\")\n",
    "\n",
    "    def drive(self, add_mileage):\n",
    "        self.mileage += add_mileage\n",
    "        return print(f\"{self.color} car, miles: {self.mileage}\")\n",
    "        \n",
    "# car1 = Car(\"blue\", 20000)\n",
    "# car1.blue_car()\n",
    "# car2 =Car(\"red\", 30000)\n",
    "# car2.red_car()\n",
    "distance = Car(\"Blue\", 100)\n",
    "distance.drive(0)"
   ]
  },
  {
   "cell_type": "markdown",
   "id": "c7b89c30-afe6-4b88-a816-e9fa33acf7b4",
   "metadata": {},
   "source": [
    "# REVIEW EXERCISES NO 2"
   ]
  },
  {
   "cell_type": "code",
   "execution_count": 3,
   "id": "23c51f2d-0a0a-40d4-8e81-3d9737a3dc61",
   "metadata": {},
   "outputs": [
    {
     "name": "stdout",
     "output_type": "stream",
     "text": [
      "mocho is 5 years old\n",
      "mocho says BARK\n"
     ]
    }
   ],
   "source": [
    "class Dog:\n",
    "    species = \"Canis Familiiaris\"\n",
    "\n",
    "    def __init__(self, name, age):\n",
    "        self.name = name\n",
    "        self.age = age\n",
    "    \n",
    "    def __str__(self):\n",
    "        return f\"{self.name} is {self.age} years old\"\n",
    "    \n",
    "    def  speak(self, sound):\n",
    "        return f\"{self.name} says {sound}\"\n",
    "class GoldenRetriever(Dog):\n",
    "    def speak(self, sound=\"BARK\"):\n",
    "        return super().speak(sound)\n",
    "\n",
    "D = GoldenRetriever(\"mocho\", 5)\n",
    "print(D)\n",
    "print(D.speak())"
   ]
  },
  {
   "cell_type": "code",
   "execution_count": 4,
   "id": "9726b6bf-1f95-4201-ad08-58ea2e797291",
   "metadata": {},
   "outputs": [
    {
     "name": "stdout",
     "output_type": "stream",
     "text": [
      "16\n"
     ]
    }
   ],
   "source": [
    "class Rectangle:\n",
    "    def __init__(self, lenght, width):\n",
    "        self.lenght = lenght\n",
    "        self.width = width\n",
    "    \n",
    "    def area(self):\n",
    "        return self.lenght * self.width\n",
    "    \n",
    "class Square(Rectangle):\n",
    "    def __init__(self, side_lenght):\n",
    "        super().__init__(side_lenght, side_lenght)\n",
    "        \n",
    "s = Square(4)\n",
    "print(s.area())"
   ]
  },
  {
   "cell_type": "markdown",
   "id": "437c7c7c-34d8-4f9c-8891-c8c571b9848a",
   "metadata": {},
   "source": [
    "# CHALLENGE: MODEL A FARM"
   ]
  },
  {
   "cell_type": "code",
   "execution_count": 3,
   "id": "cc24680a-4719-4cf9-839c-fa03ce2022dd",
   "metadata": {},
   "outputs": [
    {
     "name": "stdout",
     "output_type": "stream",
     "text": [
      "\n",
      "---Mocho' INFO---\n",
      "TYPE OF ANIMAL: Dog\n",
      "Color: white, Age: 2\n",
      "Mocho says bark\n",
      "Mocho is walking in the garden.\n",
      "Mocho is eating Dog Food.\n",
      "\n",
      "---angela' INFO---\n",
      "TYPE OF ANIMAL: Cat\n",
      "Color: brown, Age: 3\n",
      "angela says meow\n",
      "angela is walking in the garden.\n",
      "angela is eating meat\n",
      "\n",
      "---Botitort' INFO---\n",
      "TYPE OF ANIMAL: Cow\n",
      "Color: black, Age: 5\n",
      "Botitort says MOO\n",
      "Botitort is walking in the garden.\n",
      "Botitort is eating grass.\n"
     ]
    }
   ],
   "source": [
    "class Animal:\n",
    "    def __init__(self, name, color, age, type_of_animal):\n",
    "        self.name = name\n",
    "        self.color = color\n",
    "        self.age = age\n",
    "        self.type_of_animal = type_of_animal\n",
    "    \n",
    "    def animal_type(self):\n",
    "        print(f\"{self.type_of_animal}\")\n",
    "    \n",
    "    def walk(self):\n",
    "        print(f\"{self.name} is walking in the garden.\")\n",
    "\n",
    "\n",
    "class Dog(Animal):\n",
    "    def sound(self):\n",
    "        print(f\"{self.name} says bark\")\n",
    "    def eat(self):\n",
    "        print(f\"{animal.name} is eating Dog Food.\")\n",
    "        \n",
    "class Kitten(Animal):\n",
    "    def sound(self):\n",
    "        print(f\"{self.name} says meow\")\n",
    "    def eat(self):\n",
    "        print(f\"{self.name} is eating meat\")\n",
    "\n",
    "class Cow(Animal):\n",
    "    def sound(self):\n",
    "        print(f\"{self.name} says MOO\")\n",
    "    def eat(self):\n",
    "        print(f\"{self.name} is eating grass.\")\n",
    "\n",
    "dog = Dog(\"Mocho\", \"white\", 2, \"Dog\")\n",
    "kitten = Kitten(\"angela\", \"brown\", 3, \"Cat\")\n",
    "cow = Cow(\"Botitort\", \"black\", 5, \"Cow\")\n",
    "\n",
    "for animal in [dog, kitten, cow]:\n",
    "    print(f\"\\n---{animal.name}' INFO---\")\n",
    "    print(f\"TYPE OF ANIMAL: {animal.type_of_animal}\")\n",
    "    print(f\"Color: {animal.color}, Age: {animal.age}\")\n",
    "    animal.sound()\n",
    "    animal.walk()\n",
    "    animal.eat()"
   ]
  },
  {
   "cell_type": "code",
   "execution_count": null,
   "id": "60d13d1f-780a-4eb8-8605-0e42d09b92a2",
   "metadata": {},
   "outputs": [],
   "source": []
  }
 ],
 "metadata": {
  "kernelspec": {
   "display_name": "Python 3 (ipykernel)",
   "language": "python",
   "name": "python3"
  },
  "language_info": {
   "codemirror_mode": {
    "name": "ipython",
    "version": 3
   },
   "file_extension": ".py",
   "mimetype": "text/x-python",
   "name": "python",
   "nbconvert_exporter": "python",
   "pygments_lexer": "ipython3",
   "version": "3.10.18"
  }
 },
 "nbformat": 4,
 "nbformat_minor": 5
}
