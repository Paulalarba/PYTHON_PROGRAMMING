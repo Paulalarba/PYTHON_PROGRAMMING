{
 "cells": [
  {
   "cell_type": "markdown",
   "id": "ca1b1eb9-06c1-459b-ba1c-e252f607fe06",
   "metadata": {},
   "source": [
    "# exponent.py"
   ]
  },
  {
   "cell_type": "code",
   "execution_count": 13,
   "id": "b6266946-22ca-471b-bf06-eb3566636f4a",
   "metadata": {},
   "outputs": [
    {
     "name": "stdin",
     "output_type": "stream",
     "text": [
      "ENETER A BASE:  1.2\n",
      "ENTER AN EXPONENT:  3\n"
     ]
    },
    {
     "name": "stdout",
     "output_type": "stream",
     "text": [
      "1.2 to the power of 3.0 = 1.7279999999999998\n"
     ]
    }
   ],
   "source": [
    "base = 'ENETER A BASE: '\n",
    "base_input = float(input(base))\n",
    "exponent = 'ENTER AN EXPONENT: '\n",
    "exp_input = float(input(exponent))\n",
    "\n",
    "result = base_input ** exp_input\n",
    "# three different ways to print\n",
    "#print(str(base_input) + \" to the power of \" + str(exp_input) + \" = \" + str(result)) //CASTING\n",
    "#print(base_input, \" to the power of \", exp_input, \" = \", result) // using commas\n",
    "print(f\"{base_input} to the power of {exp_input} = {result}\") #f-strings"
   ]
  },
  {
   "cell_type": "code",
   "execution_count": null,
   "id": "b60e5dcd-676b-4d4d-a38c-e0cbf7d01844",
   "metadata": {},
   "outputs": [],
   "source": []
  }
 ],
 "metadata": {
  "kernelspec": {
   "display_name": "Python (myenv)",
   "language": "python",
   "name": "myenv"
  },
  "language_info": {
   "codemirror_mode": {
    "name": "ipython",
    "version": 3
   },
   "file_extension": ".py",
   "mimetype": "text/x-python",
   "name": "python",
   "nbconvert_exporter": "python",
   "pygments_lexer": "ipython3",
   "version": "3.10.18"
  }
 },
 "nbformat": 4,
 "nbformat_minor": 5
}
